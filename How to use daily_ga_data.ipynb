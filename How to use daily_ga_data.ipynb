{
 "cells": [
  {
   "cell_type": "markdown",
   "metadata": {},
   "source": [
    "## Instructions\n",
    "\n",
    "You're going to run every cell in this notebook, that isn't labelled optional.\n",
    "\n",
    "The text which talks about the cell (if it has some) will be above it.\n",
    "\n",
    "If it contains **action** you need to change something in the cell, if it contains **context** then it's just explaining things to you."
   ]
  },
  {
   "cell_type": "markdown",
   "metadata": {},
   "source": [
    "**Action:** First we need to import the python library.\n",
    "\n",
    "You will need to install this first, it's not automatic. If you don't know how to install a python library I've got a beginners blog post on how to install a python library.\n",
    "\n",
    "Go follow that then come back :)"
   ]
  },
  {
   "cell_type": "code",
   "execution_count": 1,
   "metadata": {},
   "outputs": [],
   "source": [
    "import daily_ga_data"
   ]
  },
  {
   "cell_type": "markdown",
   "metadata": {},
   "source": [
    "**Action:**\n",
    "\n",
    "We need to set:\n",
    "- account_id\n",
    "- web_property_id\n",
    "- view_id\n",
    "\n",
    "These will select the GA account we're going to download from. We can most easily get these by opening up the [account explorer](https://ga-dev-tools.appspot.com/account-explorer/) and searching for the account we want to download from."
   ]
  },
  {
   "cell_type": "code",
   "execution_count": 2,
   "metadata": {},
   "outputs": [],
   "source": [
    "account_id = \"1618063\"\n",
    "web_property_id = \"UA-1618063-1\"\n",
    "view_id = \"2901806\""
   ]
  },
  {
   "cell_type": "markdown",
   "metadata": {},
   "source": [
    "**Action:**\n",
    "\n",
    "Then we need to some personalisation. The start and end date are self explanatory. They need to be in the format `YYYY-MM-DD`.\n",
    "\n",
    "- start_date\n",
    "- end_date"
   ]
  },
  {
   "cell_type": "code",
   "execution_count": 3,
   "metadata": {},
   "outputs": [],
   "source": [
    "start_date = \"2019-01-01\"\n",
    "end_date = \"2019-01-02\""
   ]
  },
  {
   "cell_type": "markdown",
   "metadata": {},
   "source": [
    "**Action:**\n",
    "\n",
    "Finally we need to set the location of the API key we've downloaded from Google. \n",
    "\n",
    "- auth_file\n",
    "\n",
    "If you're not sure how to get that API key, the instructions are in the blog post that accompanies this workbook.\n",
    "\n",
    "This needs to be the full path. \n",
    "\n",
    "**Windows:**\n",
    "If you're in Windows, the format of the path should look like this, with backslashes and an `r` at the start outside the quotes. Putting the `r` outside of the quotes allows us to use backslashes for the path. \n",
    "\n",
    "- `r\"C:\\Users\\Dom_W\\credentials\\credentials.json\"`\n",
    "\n",
    "(Obviously you'll need to set the path to wherever you downloaded your API key)\n",
    "\n",
    "**Mac/Linux:**\n",
    "If you're on Mac then the format of the path should look something like this.\n",
    "\n",
    "- `\"/Users/Dom_W/credentials/credentials.json\"`\n",
    "\n",
    "Although again you'll obviously need to personalise this for you."
   ]
  },
  {
   "cell_type": "code",
   "execution_count": 4,
   "metadata": {},
   "outputs": [],
   "source": [
    "auth_file = r\"C:\\Users\\Dom_W\\Documents\\Development\\Projects\\sharing\\daily_google_analytics_v3\\credentials\\credentials.json\""
   ]
  },
  {
   "cell_type": "markdown",
   "metadata": {},
   "source": [
    "**Action:**\n",
    "\n",
    "Optional: We could then also set metrics & dimensions to customise what we get back from GA.\n",
    "\n",
    "I find the [query explorer](https://ga-dev-tools.appspot.com/query-explorer/) really useful for this.\n",
    "\n",
    "- metrics\n",
    "- dimensions"
   ]
  },
  {
   "cell_type": "code",
   "execution_count": 7,
   "metadata": {},
   "outputs": [],
   "source": [
    "metrics = \"ga:sessions\"\n",
    "dimensions = \"ga:landingPagePath\""
   ]
  },
  {
   "cell_type": "markdown",
   "metadata": {},
   "source": [
    "**Context:**\n",
    "\n",
    "Finally we download our data and save it into an object called `df`."
   ]
  },
  {
   "cell_type": "code",
   "execution_count": 10,
   "metadata": {},
   "outputs": [],
   "source": [
    "df = daily_ga_data.download_v3({\n",
    "    \"account_id\": account_id,\n",
    "    \"web_property_id\": web_property_id,\n",
    "    \"view_id\": view_id,\n",
    "    \"start_date\": start_date,\n",
    "    \"end_date\": end_date,\n",
    "    \"auth_type\": \"service\",\n",
    "    \"auth_file\": auth_file,\n",
    "    \"total_results_per_day\": False,\n",
    "    \"query_params\": {\n",
    "        \"metrics\": metrics,\n",
    "        \"dimensions\": dimensions,\n",
    "        \"max_results\": 10000,\n",
    "    }\n",
    "})"
   ]
  },
  {
   "cell_type": "markdown",
   "metadata": {},
   "source": [
    "**Context:**\n",
    "\n",
    "This next cell will copy the output to our clipboard, so we can use it wherever we want!"
   ]
  },
  {
   "cell_type": "code",
   "execution_count": null,
   "metadata": {},
   "outputs": [],
   "source": [
    "df.to_clipboard()"
   ]
  },
  {
   "cell_type": "markdown",
   "metadata": {},
   "source": [
    "**Optional:**\n",
    "\n",
    "If you don't want the data split by day, we can now group it to get rid of that.  "
   ]
  },
  {
   "cell_type": "code",
   "execution_count": 14,
   "metadata": {},
   "outputs": [],
   "source": [
    "df_no_time = df.groupby(dimensions).agg({\n",
    "    'ga:sessions': 'sum',\n",
    "}).reset_index()"
   ]
  },
  {
   "cell_type": "markdown",
   "metadata": {},
   "source": [
    "**Optional:**\n",
    "\n",
    "And we can of course then copy that to the clipboard."
   ]
  },
  {
   "cell_type": "markdown",
   "metadata": {},
   "source": [
    "df_no_time.to_clipboard()"
   ]
  }
 ],
 "metadata": {
  "kernelspec": {
   "display_name": "Python 3",
   "language": "python",
   "name": "python3"
  },
  "language_info": {
   "codemirror_mode": {
    "name": "ipython",
    "version": 3
   },
   "file_extension": ".py",
   "mimetype": "text/x-python",
   "name": "python",
   "nbconvert_exporter": "python",
   "pygments_lexer": "ipython3",
   "version": "3.6.0"
  }
 },
 "nbformat": 4,
 "nbformat_minor": 2
}
